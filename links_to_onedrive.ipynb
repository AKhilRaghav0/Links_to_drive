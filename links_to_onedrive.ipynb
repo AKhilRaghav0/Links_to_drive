{
  "nbformat": 4,
  "nbformat_minor": 0,
  "metadata": {
    "colab": {
      "provenance": []
    },
    "kernelspec": {
      "name": "python3",
      "display_name": "Python 3"
    },
    "language_info": {
      "name": "python"
    }
  },
  "cells": [
    {
      "cell_type": "markdown",
      "source": [
        "\n",
        "## <font color='greenr'> Torrents   </font> upload to  <font color='lightblue'>onedrive</font> <img src='https://www.gb-advisors.com/wp-content/uploads/2020/03/OneDrive-Logo.png' height=\"100\" />BY'-  <font color='red'> KrypticBit \n"
      ],
      "metadata": {
        "id": "WZogp-b_57D_"
      }
    },
    {
      "cell_type": "markdown",
      "source": [
        "\n",
        "\n",
        "\n",
        "<font color='Cyan'> Tools  </font> 💽\n",
        "\n",
        "\n",
        "*   <font color='yellow'> Rclone </font> - download rclone in your operating system download link= https://rclone.org/downloads/\n",
        "*   <font color='yellow'> Onedrive Account  </font> (personal,business both working) no account? just signup https://signup.live.com/\n",
        "\n",
        "\n",
        "\n"
      ],
      "metadata": {
        "id": "Yb8ckch26Dul"
      }
    },
    {
      "cell_type": "markdown",
      "source": [
        "### 1.**Install**  <img src='https://biplobsd.github.io/RLabClone/img/title_rclonelab.svg' height=\"45\" alt=\"RcloneLab\"/> <img src='https://libtorrent.org/img/logo-color-text.png' height=\"45\" alt=\"RcloneLab\"/>\n",
        "\n"
      ],
      "metadata": {
        "id": "mpGl35gH6Sqn"
      }
    },
    {
      "cell_type": "code",
      "source": [
        "!python -m pip install --upgrade pip setuptools wheel\n",
        "!python -m pip install lbry-libtorrent\n",
        "!wget https://downloads.rclone.org/v1.52.1/rclone-v1.52.1-linux-amd64.deb\n",
        "!apt install ./rclone-v1.52.1-linux-amd64.deb"
      ],
      "metadata": {
        "colab": {
          "base_uri": "https://localhost:8080/"
        },
        "id": "2oEgeGat5w4K",
        "outputId": "ec259985-2989-47b2-b52e-cafbeed1b019"
      },
      "execution_count": null,
      "outputs": [
        {
          "output_type": "stream",
          "name": "stdout",
          "text": [
            "Looking in indexes: https://pypi.org/simple, https://us-python.pkg.dev/colab-wheels/public/simple/\n",
            "Requirement already satisfied: pip in /usr/local/lib/python3.8/dist-packages (22.0.4)\n",
            "Collecting pip\n",
            "  Downloading pip-22.3.1-py3-none-any.whl (2.1 MB)\n",
            "\u001b[2K     \u001b[90m━━━━━━━━━━━━━━━━━━━━━━━━━━━━━━━━━━━━━━━━\u001b[0m \u001b[32m2.1/2.1 MB\u001b[0m \u001b[31m26.2 MB/s\u001b[0m eta \u001b[36m0:00:00\u001b[0m\n",
            "\u001b[?25hRequirement already satisfied: setuptools in /usr/local/lib/python3.8/dist-packages (57.4.0)\n",
            "Collecting setuptools\n",
            "  Downloading setuptools-66.1.1-py3-none-any.whl (1.3 MB)\n",
            "\u001b[2K     \u001b[90m━━━━━━━━━━━━━━━━━━━━━━━━━━━━━━━━━━━━━━━━\u001b[0m \u001b[32m1.3/1.3 MB\u001b[0m \u001b[31m57.6 MB/s\u001b[0m eta \u001b[36m0:00:00\u001b[0m\n",
            "\u001b[?25hRequirement already satisfied: wheel in /usr/local/lib/python3.8/dist-packages (0.38.4)\n",
            "Installing collected packages: setuptools, pip\n",
            "  Attempting uninstall: setuptools\n",
            "    Found existing installation: setuptools 57.4.0\n",
            "    Uninstalling setuptools-57.4.0:\n",
            "      Successfully uninstalled setuptools-57.4.0\n",
            "  Attempting uninstall: pip\n",
            "    Found existing installation: pip 22.0.4\n",
            "    Uninstalling pip-22.0.4:\n",
            "      Successfully uninstalled pip-22.0.4\n",
            "\u001b[31mERROR: pip's dependency resolver does not currently take into account all the packages that are installed. This behaviour is the source of the following dependency conflicts.\n",
            "ipython 7.9.0 requires jedi>=0.10, which is not installed.\n",
            "cvxpy 1.2.3 requires setuptools<=64.0.2, but you have setuptools 66.1.1 which is incompatible.\u001b[0m\u001b[31m\n",
            "\u001b[0mSuccessfully installed pip-22.3.1 setuptools-66.1.1\n",
            "Looking in indexes: https://pypi.org/simple, https://us-python.pkg.dev/colab-wheels/public/simple/\n",
            "Collecting lbry-libtorrent\n",
            "  Downloading lbry_libtorrent-1.2.4-py3-none-any.whl (2.4 MB)\n",
            "\u001b[2K     \u001b[90m━━━━━━━━━━━━━━━━━━━━━━━━━━━━━━━━━━━━━━━━\u001b[0m \u001b[32m2.4/2.4 MB\u001b[0m \u001b[31m27.1 MB/s\u001b[0m eta \u001b[36m0:00:00\u001b[0m\n",
            "\u001b[?25hInstalling collected packages: lbry-libtorrent\n",
            "Successfully installed lbry-libtorrent-1.2.4\n",
            "\u001b[33mWARNING: Running pip as the 'root' user can result in broken permissions and conflicting behaviour with the system package manager. It is recommended to use a virtual environment instead: https://pip.pypa.io/warnings/venv\u001b[0m\u001b[33m\n",
            "\u001b[0m--2023-01-28 15:59:17--  https://downloads.rclone.org/v1.52.1/rclone-v1.52.1-linux-amd64.deb\n",
            "Resolving downloads.rclone.org (downloads.rclone.org)... 95.217.6.16, 2a01:4f9:c012:7154::1\n",
            "Connecting to downloads.rclone.org (downloads.rclone.org)|95.217.6.16|:443... connected.\n",
            "HTTP request sent, awaiting response... 200 OK\n",
            "Length: 13904596 (13M) [application/vnd.debian.binary-package]\n",
            "Saving to: ‘rclone-v1.52.1-linux-amd64.deb’\n",
            "\n",
            "rclone-v1.52.1-linu 100%[===================>]  13.26M  9.59MB/s    in 1.4s    \n",
            "\n",
            "2023-01-28 15:59:20 (9.59 MB/s) - ‘rclone-v1.52.1-linux-amd64.deb’ saved [13904596/13904596]\n",
            "\n",
            "Reading package lists... Done\n",
            "Building dependency tree       \n",
            "Reading state information... Done\n",
            "Note, selecting 'rclone' instead of './rclone-v1.52.1-linux-amd64.deb'\n",
            "The following NEW packages will be installed:\n",
            "  rclone\n",
            "0 upgraded, 1 newly installed, 0 to remove and 27 not upgraded.\n",
            "Need to get 0 B/13.9 MB of archives.\n",
            "After this operation, 43.0 MB of additional disk space will be used.\n",
            "Get:1 /content/rclone-v1.52.1-linux-amd64.deb rclone amd64 1.52.1 [13.9 MB]\n",
            "Selecting previously unselected package rclone.\n",
            "(Reading database ... 129499 files and directories currently installed.)\n",
            "Preparing to unpack .../rclone-v1.52.1-linux-amd64.deb ...\n",
            "Unpacking rclone (1.52.1) ...\n",
            "Setting up rclone (1.52.1) ...\n",
            "Processing triggers for man-db (2.9.1-1) ...\n"
          ]
        }
      ]
    },
    {
      "cell_type": "markdown",
      "source": [
        "# 2.<font color='orange'>Authenticate One Drive </font> <img src='https://biplobsd.github.io/RLabClone/img/title_rclonelab.svg' height=\"45\" alt=\"RcloneLab\"/></font> "
      ],
      "metadata": {
        "id": "QP59o_PJ8gWf"
      }
    },
    {
      "cell_type": "code",
      "execution_count": null,
      "metadata": {
        "colab": {
          "base_uri": "https://localhost:8080/"
        },
        "id": "3MkQGdKj5sDx",
        "outputId": "e299f745-2f2b-4a80-f674-e16212cbf396"
      },
      "outputs": [
        {
          "output_type": "stream",
          "name": "stdout",
          "text": [
            "2023/01/28 15:59:48 NOTICE: Config file \"/root/.config/rclone/rclone.conf\" not found - using defaults\n",
            "No remotes found - make a new one\n",
            "n) New remote\n",
            "s) Set configuration password\n",
            "q) Quit config\n",
            "n/s/q> n\n",
            "name> onedrive\n",
            "Type of storage to configure.\n",
            "Enter a string value. Press Enter for the default (\"\").\n",
            "Choose a number from below, or type in your own value\n",
            "\u001b[91m 1 / 1Fichier\n",
            "   \\ \"fichier\"\n",
            "\u001b[0m\u001b[92m 2 / Alias for an existing remote\n",
            "   \\ \"alias\"\n",
            "\u001b[0m\u001b[91m 3 / Amazon Drive\n",
            "   \\ \"amazon cloud drive\"\n",
            "\u001b[0m\u001b[92m 4 / Amazon S3 Compliant Storage Provider (AWS, Alibaba, Ceph, Digital Ocean, Dreamhost, IBM COS, Minio, etc)\n",
            "   \\ \"s3\"\n",
            "\u001b[0m\u001b[91m 5 / Backblaze B2\n",
            "   \\ \"b2\"\n",
            "\u001b[0m\u001b[92m 6 / Box\n",
            "   \\ \"box\"\n",
            "\u001b[0m\u001b[91m 7 / Cache a remote\n",
            "   \\ \"cache\"\n",
            "\u001b[0m\u001b[92m 8 / Citrix Sharefile\n",
            "   \\ \"sharefile\"\n",
            "\u001b[0m\u001b[91m 9 / Dropbox\n",
            "   \\ \"dropbox\"\n",
            "\u001b[0m\u001b[92m10 / Encrypt/Decrypt a remote\n",
            "   \\ \"crypt\"\n",
            "\u001b[0m\u001b[91m11 / FTP Connection\n",
            "   \\ \"ftp\"\n",
            "\u001b[0m\u001b[92m12 / Google Cloud Storage (this is not Google Drive)\n",
            "   \\ \"google cloud storage\"\n",
            "\u001b[0m\u001b[91m13 / Google Drive\n",
            "   \\ \"drive\"\n",
            "\u001b[0m\u001b[92m14 / Google Photos\n",
            "   \\ \"google photos\"\n",
            "\u001b[0m\u001b[91m15 / Hubic\n",
            "   \\ \"hubic\"\n",
            "\u001b[0m\u001b[92m16 / In memory object storage system.\n",
            "   \\ \"memory\"\n",
            "\u001b[0m\u001b[91m17 / Jottacloud\n",
            "   \\ \"jottacloud\"\n",
            "\u001b[0m\u001b[92m18 / Koofr\n",
            "   \\ \"koofr\"\n",
            "\u001b[0m\u001b[91m19 / Local Disk\n",
            "   \\ \"local\"\n",
            "\u001b[0m\u001b[92m20 / Mail.ru Cloud\n",
            "   \\ \"mailru\"\n",
            "\u001b[0m\u001b[91m21 / Mega\n",
            "   \\ \"mega\"\n",
            "\u001b[0m\u001b[92m22 / Microsoft Azure Blob Storage\n",
            "   \\ \"azureblob\"\n",
            "\u001b[0m\u001b[91m23 / Microsoft OneDrive\n",
            "   \\ \"onedrive\"\n",
            "\u001b[0m\u001b[92m24 / OpenDrive\n",
            "   \\ \"opendrive\"\n",
            "\u001b[0m\u001b[91m25 / OpenStack Swift (Rackspace Cloud Files, Memset Memstore, OVH)\n",
            "   \\ \"swift\"\n",
            "\u001b[0m\u001b[92m26 / Pcloud\n",
            "   \\ \"pcloud\"\n",
            "\u001b[0m\u001b[91m27 / Put.io\n",
            "   \\ \"putio\"\n",
            "\u001b[0m\u001b[92m28 / QingCloud Object Storage\n",
            "   \\ \"qingstor\"\n",
            "\u001b[0m\u001b[91m29 / SSH/SFTP Connection\n",
            "   \\ \"sftp\"\n",
            "\u001b[0m\u001b[92m30 / Sugarsync\n",
            "   \\ \"sugarsync\"\n",
            "\u001b[0m\u001b[91m31 / Tardigrade Decentralized Cloud Storage\n",
            "   \\ \"tardigrade\"\n",
            "\u001b[0m\u001b[92m32 / Transparently chunk/split large files\n",
            "   \\ \"chunker\"\n",
            "\u001b[0m\u001b[91m33 / Union merges the contents of several upstream fs\n",
            "   \\ \"union\"\n",
            "\u001b[0m\u001b[92m34 / Webdav\n",
            "   \\ \"webdav\"\n",
            "\u001b[0m\u001b[91m35 / Yandex Disk\n",
            "   \\ \"yandex\"\n",
            "\u001b[0m\u001b[92m36 / http Connection\n",
            "   \\ \"http\"\n",
            "\u001b[0m\u001b[91m37 / premiumize.me\n",
            "   \\ \"premiumizeme\"\n",
            "\u001b[0m\u001b[92m38 / seafile\n",
            "   \\ \"seafile\"\n",
            "\u001b[0mStorage> 23\n",
            "** See help for onedrive backend at: https://rclone.org/onedrive/ **\n",
            "\n",
            "Microsoft App Client Id\n",
            "Leave blank normally.\n",
            "Enter a string value. Press Enter for the default (\"\").\n",
            "client_id> \n",
            "Microsoft App Client Secret\n",
            "Leave blank normally.\n",
            "Enter a string value. Press Enter for the default (\"\").\n",
            "client_secret> \n",
            "Edit advanced config? (y/n)\n",
            "y) Yes\n",
            "n) No (default)\n",
            "y/n> n\n",
            "Remote config\n",
            "Use auto config?\n",
            " * Say Y if not sure\n",
            " * Say N if you are working on a remote or headless machine\n",
            "y) Yes (default)\n",
            "n) No\n",
            "y/n> n\n",
            "For this to work, you will need rclone available on a machine that has\n",
            "a web browser available.\n",
            "\n",
            "For more help and alternate methods see: https://rclone.org/remote_setup/\n",
            "\n",
            "Execute the following on the machine with the web browser (same rclone\n",
            "version recommended):\n",
            "\n",
            "\trclone authorize \"onedrive\"\n",
            "\n",
            "Then paste the result below:\n",
            "result> {\"access_token\":\"eyJ0eXAiOiJKV1QiLCJub25jZSI6IjVuWkVvWnUyamxVelRsUHdwX1lkMlpFSnExMUlQR2tzZjhpbExVbUZmdk0iLCJhbGciOiJSUzI1NiIsIng1dCI6Ii1LSTNROW5OUjdiUm9meG1lWm9YcWJIWkdldyIsImtpZCI6Ii1LSTNROW5OUjdiUm9meG1lWm9YcWJIWkdldyJ9.eyJhdWQiOiIwMDAwMDAwMy0wMDAwLTAwMDAtYzAwMC0wMDAwMDAwMDAwMDAiLCJpc3MiOiJodHRwczovL3N0cy53aW5kb3dzLm5ldC8yNzVmY2Y5ZS0yOWJlLTQwNzYtYTUyYS0zMjI5YWRlOTFiMDEvIiwiaWF0IjoxNjc0OTE2ODMyLCJuYmYiOjE2NzQ5MTY4MzIsImV4cCI6MTY3NDkyMTQ5MiwiYWNjdCI6MCwiYWNyIjoiMSIsImFpbyI6IkFUUUF5LzhUQUFBQXZ6aHA1NVZWRDNNZk01eEtCUzRHMjFtTlNSWHJ5QSt2K0RFTlNQbkM2TlhNSEtEY1FQd2N6K3g2eStlcmVoTm4iLCJhbXIiOlsicHdkIl0sImFwcF9kaXNwbGF5bmFtZSI6InJjbG9uZSIsImFwcGlkIjoiYjE1NjY1ZDktZWRhNi00MDkyLTg1MzktMGVlYzM3NmFmZDU5IiwiYXBwaWRhY3IiOiIxIiwiZ2l2ZW5fbmFtZSI6IktyeXB0aWNCaXQiLCJpZHR5cCI6InVzZXIiLCJpcGFkZHIiOiIxMDMuMTc1LjE4MS43IiwibmFtZSI6IktyeXB0aWNCaXQiLCJvaWQiOiIyNTBhYjA5NC1iNDc0LTRlOTUtOWZmYi03NDU5NTJlNmRkZTQiLCJwbGF0ZiI6IjgiLCJwdWlkIjoiMTAwMzIwMDI1RjE0RDYyRiIsInJoIjoiMC5BVmtBbnM5Zko3NHBka0NsS2pJcHJla2JBUU1BQUFBQUFBQUF3QUFBQUFBQUFBQ2RBSUkuIiwic2NwIjoiRmlsZXMuUmVhZCBGaWxlcy5SZWFkLkFsbCBGaWxlcy5SZWFkV3JpdGUgRmlsZXMuUmVhZFdyaXRlLkFsbCBTaXRlcy5SZWFkLkFsbCBwcm9maWxlIG9wZW5pZCBlbWFpbCIsInNpZ25pbl9zdGF0ZSI6WyJrbXNpIl0sInN1YiI6IklWZVRSVEtWcjNFTFhRRnVXejV6UVV0VngxakNCVTIzbC1neVdvUGtlV2siLCJ0ZW5hbnRfcmVnaW9uX3Njb3BlIjoiTkEiLCJ0aWQiOiIyNzVmY2Y5ZS0yOWJlLTQwNzYtYTUyYS0zMjI5YWRlOTFiMDEiLCJ1bmlxdWVfbmFtZSI6InJnaHYwNjRAYWRpdHlhLnRrIiwidXBuIjoicmdodjA2NEBhZGl0eWEudGsiLCJ1dGkiOiJ3U2kzeFhmX0tVLTlCQlN0ZGR0VUFBIiwidmVyIjoiMS4wIiwid2lkcyI6WyJiNzlmYmY0ZC0zZWY5LTQ2ODktODE0My03NmIxOTRlODU1MDkiXSwieG1zX3N0Ijp7InN1YiI6InAzYUs2RTAtYWE1NTZtMmNWZ0FuWU5SNU5ub0RKWFUybjlDUGFnbkttejQifSwieG1zX3RjZHQiOjE2NjA2MDg1MTl9.pECkxeYHVVhV1OmckBmxftpkxyJxylXtGUKiabCwOALWUab0doXDclOKfDczHJIg7B_HMOGPQtzslKz7ODgv87bQaeCRyHNdL28098e88O2N_uvcS5i8o2dI7wQQqeFZSZ3002Svb6f9Gu-NfAEMUY4KPiSy0NKgNUFKGxbuxkveTxe5kdgDI7WnzhD_CAyLC26Q7yoJ9EgOy1X5Lz9pGG1_zUnIb9pgb3fjK5wmGdX3Q59EP2qJs6TbS2i4A0ywgObgSE0SSSPiN3QQiurVe1ncwvFAaAg9nR6rzwCsEnQjGFaj0CCT8YFO23XJ4QwQXCzWGWqhkyruFne2smu90Q\",\"token_type\":\"Bearer\",\"refresh_token\":\"0.AVkAns9fJ74pdkClKjIprekbAdllVrGm7ZJAhTkO7Ddq_VmdAII.AgABAAEAAAD--DLA3VO7QrddgJg7WevrAgDs_wUA9P_KeD3OENYenxarokWJlg7QfBaCLPrqhnuKmAft-ja9kk0-GcjeWBkIP5eqGusT5NA5J_sBY80jjMLqnDVQiSGVDJUCrDJzKwZpS1P203gSWr8kv74y7NBhCa9crq6Ke_LTTFCjcPoK_EN5Y2E55uxoj_GaWQjCQyMjGy7KR4mV91C3MoKSMFUeqR0g0NDhCqg16d2A0Kaj5TzZxDcst0mszltZOtJNEzXTycHP9QOzrzVJlitGa2a5cY0doOnKyM20CZQ6fQ-56KygF6BiCUmAIUuo6evoI5G08mSLUsuhBavyo3IhY6iwvTEm9LZVzDBNIEqUNeqdZOYB8NxXaGg2y4tnp5Gi5NRCpQOF-4TdwqGt0-kCxkPezwBqiMcByMUIM4-qdUXN4hdYPNUBTQ-ss0msEwiZJaCTkODjD6fwwBnIde39i0HNO1j_TR4wWE1dJ6KZARMe8mt4aoj6q5TypAtkVtErykrV_Y82ig4FWU6x5t6nSiMLNwF-7C1kykuJjk2-rbm69UP_jtg3_rp_4SMKPiHe2zZ-sS40F7XLJecf8gSGU_EaWrP62PU8g0X8b49os4Qe7NEKL_2nyYJsGAk0-O9VCBCOvenOS2xnxZcTjt80y-dnhETFzzFDs0dU4ZCt1Q2fLHhnC9jusF-kD1sCfp3kLW1odjm2DJUJlbAAYbz_6EEVIJRwb5CkdRfAWWCa8vOIExEYucUykHEtpDfNFjRDsqqFcPlDGnswld_W3Oy_\",\"expiry\":\"2023-01-28T21:28:12.243358684+05:30\"}\n",
            "Choose a number from below, or type in an existing value\n",
            "\u001b[91m 1 / OneDrive Personal or Business\n",
            "   \\ \"onedrive\"\n",
            "\u001b[0m\u001b[92m 2 / Root Sharepoint site\n",
            "   \\ \"sharepoint\"\n",
            "\u001b[0m\u001b[91m 3 / Type in driveID\n",
            "   \\ \"driveid\"\n",
            "\u001b[0m\u001b[92m 4 / Type in SiteID\n",
            "   \\ \"siteid\"\n",
            "\u001b[0m\u001b[91m 5 / Search a Sharepoint site\n",
            "   \\ \"search\"\n",
            "\u001b[0mYour choice> 1\n",
            "Found 1 drives, please select the one you want to use:\n",
            "0: OneDrive (business) id=b!9vkvQ0THq02KilJSsm4Oo9M0lGegb7tLsu1EjQrs9eeqn3a1GGoeTJScMM-60n_4\n",
            "Chose drive to use:> 0\n",
            "Found drive 'root' of type 'business', URL: https://ynz3w-my.sharepoint.com/personal/rghv064_aditya_tk/Documents\n",
            "Is that okay?\n",
            "y) Yes (default)\n",
            "n) No\n",
            "y/n> y\n",
            "--------------------\n",
            "[onedrive]\n",
            "type = onedrive\n",
            "token = {\"access_token\":\"eyJ0eXAiOiJKV1QiLCJub25jZSI6ImoxQ3B0WkVuNWNRUGRiVVBTcUtELWE5TXZyY3dXZmR2cU1vTWVFSEVZelkiLCJhbGciOiJSUzI1NiIsIng1dCI6Ii1LSTNROW5OUjdiUm9meG1lWm9YcWJIWkdldyIsImtpZCI6Ii1LSTNROW5OUjdiUm9meG1lWm9YcWJIWkdldyJ9.eyJhdWQiOiIwMDAwMDAwMy0wMDAwLTAwMDAtYzAwMC0wMDAwMDAwMDAwMDAiLCJpc3MiOiJodHRwczovL3N0cy53aW5kb3dzLm5ldC8yNzVmY2Y5ZS0yOWJlLTQwNzYtYTUyYS0zMjI5YWRlOTFiMDEvIiwiaWF0IjoxNjc0OTIxMzM4LCJuYmYiOjE2NzQ5MjEzMzgsImV4cCI6MTY3NDkyNTcyOSwiYWNjdCI6MCwiYWNyIjoiMSIsImFpbyI6IkFUUUF5LzhUQUFBQWpXTlB4WG96MnhIcEk4U3I0bVhUK21vZHZ4Q2ZxbWpxZEYvTEhsWDZmaEhlOFNPQ1FHZm5JdTJNQ01IdlRvdmgiLCJhbXIiOlsicHdkIl0sImFwcF9kaXNwbGF5bmFtZSI6InJjbG9uZSIsImFwcGlkIjoiYjE1NjY1ZDktZWRhNi00MDkyLTg1MzktMGVlYzM3NmFmZDU5IiwiYXBwaWRhY3IiOiIxIiwiZ2l2ZW5fbmFtZSI6IktyeXB0aWNCaXQiLCJpZHR5cCI6InVzZXIiLCJpcGFkZHIiOiIxMDMuMTc1LjE4MS43IiwibmFtZSI6IktyeXB0aWNCaXQiLCJvaWQiOiIyNTBhYjA5NC1iNDc0LTRlOTUtOWZmYi03NDU5NTJlNmRkZTQiLCJwbGF0ZiI6IjgiLCJwdWlkIjoiMTAwMzIwMDI1RjE0RDYyRiIsInJoIjoiMC5BVmtBbnM5Zko3NHBka0NsS2pJcHJla2JBUU1BQUFBQUFBQUF3QUFBQUFBQUFBQ2RBSUkuIiwic2NwIjoiRmlsZXMuUmVhZCBGaWxlcy5SZWFkLkFsbCBGaWxlcy5SZWFkV3JpdGUgRmlsZXMuUmVhZFdyaXRlLkFsbCBTaXRlcy5SZWFkLkFsbCBwcm9maWxlIG9wZW5pZCBlbWFpbCIsInNpZ25pbl9zdGF0ZSI6WyJrbXNpIl0sInN1YiI6IklWZVRSVEtWcjNFTFhRRnVXejV6UVV0VngxakNCVTIzbC1neVdvUGtlV2siLCJ0ZW5hbnRfcmVnaW9uX3Njb3BlIjoiTkEiLCJ0aWQiOiIyNzVmY2Y5ZS0yOWJlLTQwNzYtYTUyYS0zMjI5YWRlOTFiMDEiLCJ1bmlxdWVfbmFtZSI6InJnaHYwNjRAYWRpdHlhLnRrIiwidXBuIjoicmdodjA2NEBhZGl0eWEudGsiLCJ1dGkiOiJiTkdZZmd3Nl9FaVY2aXNuZUpVSEFBIiwidmVyIjoiMS4wIiwid2lkcyI6WyJiNzlmYmY0ZC0zZWY5LTQ2ODktODE0My03NmIxOTRlODU1MDkiXSwieG1zX3N0Ijp7InN1YiI6InAzYUs2RTAtYWE1NTZtMmNWZ0FuWU5SNU5ub0RKWFUybjlDUGFnbkttejQifSwieG1zX3RjZHQiOjE2NjA2MDg1MTl9.CYWGYYGIBGkEaURMB31e1u0hcX6ll5OJyW2wlBPoE44VGPyyGFbhcPCTusF5vgW1ptaTRFHk-rOS5YltZ8C_8upi2ok3tysM-jcladYrZ_CG6ivjLRzmLtJHGzqZF3Lo6a_bA9r_qOugHmUTTV_go7fCQjQZiO2aPzvpjHIxntbLeg8_0kaFGt_IuAf2Epbpe1ERjdhqr0HfTDUMKWSm5pQvB07SakcjxTNwQcvj4fRKdpMDGdcARbr9vLWJoO5HZDyTgRceKFvFqMBrQ8i4H8gcPnlTkNoZCE5W_B5lfGQyWkqOZKYOVFAvtMWkDK2ql7K0n7uvan96aBA_9eH87w\",\"token_type\":\"Bearer\",\"refresh_token\":\"0.AVkAns9fJ74pdkClKjIprekbAdllVrGm7ZJAhTkO7Ddq_VmdAII.AgABAAEAAAD--DLA3VO7QrddgJg7WevrAgDs_wUA9P93OMLBA9wy_olnlgtUy7Ju-2uH7o3M8y5Kb_5V8kcFzdyW5LODZqUTNP9TuWQkwEA5O4KRjqZl7B9T5NlC5OntgIqkhqioEDJaHzR0Uz_9hD4F-aFGH_qc6KhGeSiUA0j42lPpzqeGyrxCkOPa26yTE_HQ4eqON3hdsK5DvFpU7UuQTAtXcyIORJiPo9poVwT5mxIYNwyQqN59b5VqmoXQHj-F29irna2FFcZuaZ1R5b0aNR6_-9bvZM6XiyK0nXqqVrDOOFNJ1kXXnB7-5A-0Slhjtxf7D_fi4bw69us5lALiwtlwqY5YkwIIQ9arg-arpo6oPoxXcUqgbJ_50DKp_ZgEPMWG3SsqXME6Tm4ZEKwh-s44pF-J_dotEX6H3yz5JeTKsVFyTDAhBtZCfS9f3brvyQtpHItFE_GR8fWvBdnDBhx1BVI-aIKOtKb5HwZaDI0FkX8-p6kaDvf8Em0LUI8mPZJcBefu-piijmMKjggWfXKry_eALMbSE-ZoL1OdWrcbQFGwlXZmCTxRIrreLCr8roEWp9AxiIJFHcPTRqC81mfaFf8zP8kNZs9MpZ4t6ydbkqNpAChL99E3q4rw_qCk1R6jdarlCgaGYZdz0EGP_x-m0_1OscMGI7FELJjGuVCQyY-OQd-VU9ZXB2Xrgu-wnuCZ0ylWdBk6ck1NsAAUsTwhuZLK6Js48V-4xORtG7r1GimvI9k_1nYxFn7Bugym_3qgxFXEG7JNCMWwPgWj1G0CkA\",\"expiry\":\"2023-01-28T17:08:48.401023504Z\"}\n",
            "drive_id = b!9vkvQ0THq02KilJSsm4Oo9M0lGegb7tLsu1EjQrs9eeqn3a1GGoeTJScMM-60n_4\n",
            "drive_type = business\n",
            "--------------------\n",
            "y) Yes this is OK (default)\n",
            "e) Edit this remote\n",
            "d) Delete this remote\n",
            "y/e/d> \n",
            "Current remotes:\n",
            "\n",
            "Name                 Type\n",
            "====                 ====\n",
            "onedrive             onedrive\n",
            "\n",
            "e) Edit existing remote\n",
            "n) New remote\n",
            "d) Delete remote\n",
            "r) Rename remote\n",
            "c) Copy remote\n",
            "s) Set configuration password\n",
            "q) Quit config\n",
            "e/n/d/r/c/s/q> q\n"
          ]
        }
      ],
      "source": [
        "!rclone config      #add your onedrive"
      ]
    },
    {
      "cell_type": "markdown",
      "source": [
        "<img src='https://media2.giphy.com/media/1X7lCRp8iE0yrdZvwd/giphy.gif?cid=6c09b95263odalep8cxla6dgsm4688drrdhyl4hzca3b46b5&rid=giphy.gif&ct=g' height=\"150\" />\n",
        "\n",
        "#</font> <font color='Yellow'> CAN'T CONFIG?  </font>  follow this,\n",
        "1.type </font> <font color='red'>\"n\"  </font>        - new remote\n",
        "\n",
        "2.type</font> <font color='red'> onedrive </font> -name\n",
        "\n",
        "3.type </font> <font color='red'>\"23\"  </font>  -storage\n",
        "\n",
        "4.press </font> <font color='red'> enter </font>      -client id\n",
        "\n",
        "5.press </font> <font color='red'>enter </font>      -client secret\n",
        "\n",
        "6.type </font> <font color='red'>\"n\"  </font>     -edit advanced no     \n",
        "    \n",
        "7.type</font> <font color='red'>\"n\"  </font>      -auto config no\n",
        "\n",
        "8.</font> <font color='gree'>get rclone Authenticate One Drive code and paste and press enter </font> </font> <font color='red'>HOW TO GET CODE? </font> Check hawkdump2 for tutorial.![img](https://i.postimg.cc/W4rjLLzc/image.png)\n",
        "9.type</font> <font color='red'>\"1\"  </font>'\n",
        "\n",
        "10.type'</font> <font color='red'>\"0\"  </font>   \n",
        "\n",
        "11.type</font> <font color='red'>\"y\"  </font>\n",
        "\n",
        "12.type</font> <font color='red'>\"y\"  </font>\n",
        "\n",
        "13.type  </font> <font color='red'>\"q\"  </font>  \n",
        "                       \n",
        "\n",
        "\n",
        "\n"
      ],
      "metadata": {
        "id": "yXltganP-DGH"
      }
    },
    {
      "cell_type": "markdown",
      "source": [
        "# 3.Rclone<font color='yellow'>  Mount one drive <img src='https://www.gb-advisors.com/wp-content/uploads/2020/03/OneDrive-Logo.png' height=\"90\" />\n"
      ],
      "metadata": {
        "id": "BTLj-v1k_8CW"
      }
    },
    {
      "cell_type": "code",
      "source": [
        "!mkdir onedrive\n",
        "!nohup rclone --vfs-cache-mode writes mount onedrive: ./onedrive &    "
      ],
      "metadata": {
        "colab": {
          "base_uri": "https://localhost:8080/"
        },
        "id": "_qCu9-BY-ByY",
        "outputId": "aee39643-bd82-4746-93b4-d9d0c6e12a37"
      },
      "execution_count": null,
      "outputs": [
        {
          "output_type": "stream",
          "name": "stdout",
          "text": [
            "nohup: appending output to 'nohup.out'\n"
          ]
        }
      ]
    },
    {
      "cell_type": "markdown",
      "source": [
        "check onedrive mounted"
      ],
      "metadata": {
        "id": "FnTQtHzCABoH"
      }
    },
    {
      "cell_type": "code",
      "source": [
        "!ls ./onedrive    #after sucessfully mounted onedrive then show your onedrive folders and files"
      ],
      "metadata": {
        "colab": {
          "base_uri": "https://localhost:8080/"
        },
        "id": "Cf1i8xIQE_pm",
        "outputId": "5ba176bc-3c56-4804-f625-a7cada7d9988"
      },
      "execution_count": null,
      "outputs": [
        {
          "output_type": "stream",
          "name": "stdout",
          "text": [
            "'An Action Hero (2022) (1080p 10bit NF WEBRip Hindi DDP5.1 Esub HEVC - IONICBOY).mkv'\n",
            " Censored\n",
            "'🎵 Compressed Music'\n",
            "'🎮 Games'\n",
            "'🎧 Lossless'\n",
            "'🎬 Movies & Shows'\n",
            " OnedriveXbot\n",
            "'📓 Protected Folder'\n",
            " README.md\n",
            " Setups\n",
            "'The.Witcher.S01.COMPLETE.720p.NF.WEBRip.x264-GalaxyTV[TGx]'\n"
          ]
        }
      ]
    },
    {
      "cell_type": "markdown",
      "source": [],
      "metadata": {
        "id": "zXyaJgfIGXAp"
      }
    },
    {
      "cell_type": "markdown",
      "source": [
        "# 4.Add <font color='orange'> magnet link/Torrent  <img src='https://libtorrent.org/img/logo-color-text.png' height=\"45\" alt=\"RcloneLab\"/>\n"
      ],
      "metadata": {
        "id": "2U2mnJaWFEBY"
      }
    },
    {
      "cell_type": "code",
      "source": [
        "!mkdir downloads\n",
        "link = input (\"Input Magnet links\") \n",
        "\n",
        "import libtorrent as lt\n",
        "import time\n",
        "import datetime\n",
        "\n",
        "ses = lt.session()\n",
        "ses.listen_on(6881, 6891)\n",
        "params = {\n",
        "    'save_path': './downloads/',\n",
        "    'storage_mode': lt.storage_mode_t(2)}\n",
        "\n",
        "print(link)\n",
        "\n",
        "handle = lt.add_magnet_uri(ses, link, params)\n",
        "ses.start_dht()\n",
        "\n",
        "begin = time.time()\n",
        "print(datetime.datetime.now())\n",
        "\n",
        "print ('Downloading Metadata...')\n",
        "while (not handle.has_metadata()):\n",
        "    time.sleep(1)\n",
        "print ('Got Metadata, Starting Torrent Download...')\n",
        "\n",
        "print(\"Starting\", handle.name())\n",
        "\n",
        "while (handle.status().state != lt.torrent_status.seeding):\n",
        "    s = handle.status()\n",
        "    state_str = ['queued', 'checking', 'downloading metadata', \\\n",
        "            'downloading', 'finished', 'seeding', 'allocating']\n",
        "    print ('%.2f%% complete (down: %.1f kb/s up: %.1f kB/s peers: %d) %s ' % \\\n",
        "            (s.progress * 100, s.download_rate / 1000, s.upload_rate / 1000, \\\n",
        "            s.num_peers, state_str[s.state]))\n",
        "    time.sleep(5)\n",
        "\n",
        "end = time.time()\n",
        "print(handle.name(), \"COMPLETE\")\n",
        "\n",
        "print(\"Elapsed Time: \",int((end-begin)//60),\"min :\", int((end-begin)%60), \"sec\")\n",
        "\n",
        "print(datetime.datetime.now())"
      ],
      "metadata": {
        "id": "73n3U4mcFIKO"
      },
      "execution_count": null,
      "outputs": []
    },
    {
      "cell_type": "markdown",
      "source": [
        "Functional & minimal Straight forwared Method "
      ],
      "metadata": {
        "id": "eVNOOAZaHuMo"
      }
    },
    {
      "cell_type": "code",
      "source": [
        "#Optional\n",
        "!cd downloads && wget -c #paste link here"
      ],
      "metadata": {
        "colab": {
          "base_uri": "https://localhost:8080/"
        },
        "id": "mvWInPjnGcYU",
        "outputId": "efafe5bc-81a3-4d1e-8aa1-6578fe358b40"
      },
      "execution_count": null,
      "outputs": [
        {
          "output_type": "stream",
          "name": "stdout",
          "text": [
            "--2023-01-28 16:05:07--  https://index.akhilraghav.rocks/api/raw/?path=/OnedriveXbot/BL-cbj-.part1.rar\n",
            "Resolving index.akhilraghav.rocks (index.akhilraghav.rocks)... 104.21.64.126, 172.67.185.24, 2606:4700:3030::ac43:b918, ...\n",
            "Connecting to index.akhilraghav.rocks (index.akhilraghav.rocks)|104.21.64.126|:443... connected.\n",
            "HTTP request sent, awaiting response... 307 Temporary Redirect\n",
            "Location: https://ynz3w-my.sharepoint.com/personal/rghv064_aditya_tk/_layouts/15/download.aspx?UniqueId=8eaf8338-f035-4d32-95ef-de376fc2aadf&Translate=false&tempauth=eyJ0eXAiOiJKV1QiLCJhbGciOiJub25lIn0.eyJhdWQiOiIwMDAwMDAwMy0wMDAwLTBmZjEtY2UwMC0wMDAwMDAwMDAwMDAveW56M3ctbXkuc2hhcmVwb2ludC5jb21AMjc1ZmNmOWUtMjliZS00MDc2LWE1MmEtMzIyOWFkZTkxYjAxIiwiaXNzIjoiMDAwMDAwMDMtMDAwMC0wZmYxLWNlMDAtMDAwMDAwMDAwMDAwIiwibmJmIjoiMTY3NDkyMTkwNyIsImV4cCI6IjE2NzQ5MjU1MDciLCJlbmRwb2ludHVybCI6InkxdXJlYmJIdDlsSHFaenVSbzcwekNKMEN3VHV5K0MvMGE5bGJJVlRidkU9IiwiZW5kcG9pbnR1cmxMZW5ndGgiOiIxNDYiLCJpc2xvb3BiYWNrIjoiVHJ1ZSIsImNpZCI6Ik9UWTFOMkV5WlRFdFlUYzRNUzAwWVdReExUbGxORFF0T1RZNFpHVTFNR1EyWkdRNCIsInZlciI6Imhhc2hlZHByb29mdG9rZW4iLCJzaXRlaWQiOiJORE15Wm1ZNVpqWXRZemMwTkMwMFpHRmlMVGhoT0dFdE5USTFNbUl5Tm1Vd1pXRXoiLCJhcHBfZGlzcGxheW5hbWUiOiJvbmVkcml2ZS12ZXJjZWwtaW5kZXgiLCJnaXZlbl9uYW1lIjoiS3J5cHRpY0JpdCIsImFwcGlkIjoiZDg3YmNjMzktMTc1MC00Y2EwLWFkNTQtZjhkMGVmYmIyNzM1IiwidGlkIjoiMjc1ZmNmOWUtMjliZS00MDc2LWE1MmEtMzIyOWFkZTkxYjAxIiwidXBuIjoicmdodjA2NEBhZGl0eWEudGsiLCJwdWlkIjoiMTAwMzIwMDI1RjE0RDYyRiIsImNhY2hla2V5IjoiMGguZnxtZW1iZXJzaGlwfDEwMDMyMDAyNWYxNGQ2MmZAbGl2ZS5jb20iLCJzY3AiOiJhbGxmaWxlcy5yZWFkIGFsbHByb2ZpbGVzLnJlYWQiLCJ0dCI6IjIiLCJ1c2VQZXJzaXN0ZW50Q29va2llIjpudWxsLCJpcGFkZHIiOiI0MC4xMjYuMjMuMTYyIn0.MnpCcS9IdHpXUEVJWlpBMy84K2JUamswaDAwNHNiU0JoS2QyU29xdU5TUT0&ApiVersion=2.0 [following]\n",
            "--2023-01-28 16:05:07--  https://ynz3w-my.sharepoint.com/personal/rghv064_aditya_tk/_layouts/15/download.aspx?UniqueId=8eaf8338-f035-4d32-95ef-de376fc2aadf&Translate=false&tempauth=eyJ0eXAiOiJKV1QiLCJhbGciOiJub25lIn0.eyJhdWQiOiIwMDAwMDAwMy0wMDAwLTBmZjEtY2UwMC0wMDAwMDAwMDAwMDAveW56M3ctbXkuc2hhcmVwb2ludC5jb21AMjc1ZmNmOWUtMjliZS00MDc2LWE1MmEtMzIyOWFkZTkxYjAxIiwiaXNzIjoiMDAwMDAwMDMtMDAwMC0wZmYxLWNlMDAtMDAwMDAwMDAwMDAwIiwibmJmIjoiMTY3NDkyMTkwNyIsImV4cCI6IjE2NzQ5MjU1MDciLCJlbmRwb2ludHVybCI6InkxdXJlYmJIdDlsSHFaenVSbzcwekNKMEN3VHV5K0MvMGE5bGJJVlRidkU9IiwiZW5kcG9pbnR1cmxMZW5ndGgiOiIxNDYiLCJpc2xvb3BiYWNrIjoiVHJ1ZSIsImNpZCI6Ik9UWTFOMkV5WlRFdFlUYzRNUzAwWVdReExUbGxORFF0T1RZNFpHVTFNR1EyWkdRNCIsInZlciI6Imhhc2hlZHByb29mdG9rZW4iLCJzaXRlaWQiOiJORE15Wm1ZNVpqWXRZemMwTkMwMFpHRmlMVGhoT0dFdE5USTFNbUl5Tm1Vd1pXRXoiLCJhcHBfZGlzcGxheW5hbWUiOiJvbmVkcml2ZS12ZXJjZWwtaW5kZXgiLCJnaXZlbl9uYW1lIjoiS3J5cHRpY0JpdCIsImFwcGlkIjoiZDg3YmNjMzktMTc1MC00Y2EwLWFkNTQtZjhkMGVmYmIyNzM1IiwidGlkIjoiMjc1ZmNmOWUtMjliZS00MDc2LWE1MmEtMzIyOWFkZTkxYjAxIiwidXBuIjoicmdodjA2NEBhZGl0eWEudGsiLCJwdWlkIjoiMTAwMzIwMDI1RjE0RDYyRiIsImNhY2hla2V5IjoiMGguZnxtZW1iZXJzaGlwfDEwMDMyMDAyNWYxNGQ2MmZAbGl2ZS5jb20iLCJzY3AiOiJhbGxmaWxlcy5yZWFkIGFsbHByb2ZpbGVzLnJlYWQiLCJ0dCI6IjIiLCJ1c2VQZXJzaXN0ZW50Q29va2llIjpudWxsLCJpcGFkZHIiOiI0MC4xMjYuMjMuMTYyIn0.MnpCcS9IdHpXUEVJWlpBMy84K2JUamswaDAwNHNiU0JoS2QyU29xdU5TUT0&ApiVersion=2.0\n",
            "Resolving ynz3w-my.sharepoint.com (ynz3w-my.sharepoint.com)... 13.107.136.8, 13.107.138.8, 2620:1ec:8f8::8, ...\n",
            "Connecting to ynz3w-my.sharepoint.com (ynz3w-my.sharepoint.com)|13.107.136.8|:443... connected.\n",
            "HTTP request sent, awaiting response... 200 OK\n",
            "Length: 2147483648 (2.0G) [application/octet-stream]\n",
            "Saving to: ‘index.html?path=%2FOnedriveXbot%2FBL-cbj-.part1.rar’\n",
            "\n",
            "index.html?path=%2F 100%[===================>]   2.00G   127MB/s    in 31s     \n",
            "\n",
            "2023-01-28 16:05:39 (66.0 MB/s) - ‘index.html?path=%2FOnedriveXbot%2FBL-cbj-.part1.rar’ saved [2147483648/2147483648]\n",
            "\n",
            "--2023-01-28 16:05:39--  http://link/\n",
            "Resolving link (link)... failed: No address associated with hostname.\n",
            "wget: unable to resolve host address ‘link’\n",
            "--2023-01-28 16:05:39--  http://here/\n",
            "Resolving here (here)... failed: No address associated with hostname.\n",
            "wget: unable to resolve host address ‘here’\n",
            "FINISHED --2023-01-28 16:05:39--\n",
            "Total wall clock time: 32s\n",
            "Downloaded: 1 files, 2.0G in 31s (66.0 MB/s)\n"
          ]
        }
      ]
    },
    {
      "cell_type": "markdown",
      "source": [
        "# 5 <font color='yellow'>.**copy** files </font> to onedrive  "
      ],
      "metadata": {
        "id": "4bNkXutHGO8Y"
      }
    },
    {
      "cell_type": "code",
      "source": [
        "!rsync -ah --progress downloads/ onedrive/            #this may take a while "
      ],
      "metadata": {
        "colab": {
          "base_uri": "https://localhost:8080/"
        },
        "id": "wZz-ne2ZGReU",
        "outputId": "4a2ad1bd-0368-4587-b660-227cfc2768bf"
      },
      "execution_count": null,
      "outputs": [
        {
          "output_type": "stream",
          "name": "stdout",
          "text": [
            "sending incremental file list\n",
            "./\n",
            "index.html?path=%2FOnedriveXbot%2FBL-cbj-.part1.rar\n",
            "          2.15G 100%  123.72MB/s    0:00:16 (xfr#1, to-chk=0/3)\n"
          ]
        }
      ]
    }
  ]
}